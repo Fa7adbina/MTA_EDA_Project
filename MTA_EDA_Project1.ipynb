{
 "cells": [
  {
   "cell_type": "markdown",
   "id": "19365eb7",
   "metadata": {},
   "source": [
    "# MTA_EDA_Project1 "
   ]
  },
  {
   "cell_type": "code",
   "execution_count": 1,
   "id": "790e9649",
   "metadata": {},
   "outputs": [],
   "source": [
    "import pandas as pd #import pandas  as pd for sort data \n",
    "import datetime  #for sort data by date and time\n",
    "import matplotlib.pyplot as plt #to plot data \n",
    "import numpy as np\n",
    "from sqlalchemy import create_engine\n",
    "import seaborn as sns #to plot \n",
    "%matplotlib inline "
   ]
  },
  {
   "cell_type": "markdown",
   "id": "85554f07",
   "metadata": {},
   "source": [
    "### if you want to run code remove hash below\n",
    "* the cell below is for download the date set from MTA website"
   ]
  },
  {
   "cell_type": "code",
   "execution_count": null,
   "id": "861caa64",
   "metadata": {},
   "outputs": [],
   "source": [
    "def Data(week_numbers):\n",
    "    URL = \"http://web.mta.info/developers/data/nyct/turnstile/turnstile_{}.txt\"\n",
    "    Data = []\n",
    "    for week_number in week_numbers:\n",
    "        file = URL.format(week_number)\n",
    "        Data.append(pd.read_csv(file))\n",
    "    return pd.concat(Data)\n",
    " \n",
    "week_numbers = [210501,210508,210515,210522,210529,210605,210612,210619,210626,210703\n",
    "                ,210710,210717,210724,210731,210807]\n",
    "Data_DB = Data(week_numbers)"
   ]
  },
  {
   "cell_type": "markdown",
   "id": "ce684c9b",
   "metadata": {},
   "source": [
    "Create database in sqlite and upload file to sql and read it from sql again as dataframe"
   ]
  },
  {
   "cell_type": "code",
   "execution_count": null,
   "id": "c5a928ce",
   "metadata": {},
   "outputs": [],
   "source": [
    "engine = create_engine(\"sqlite:///DB_MTA.db\") #to create database"
   ]
  },
  {
   "cell_type": "markdown",
   "id": "acbc27d7",
   "metadata": {},
   "source": [
    "* below cell is to write dateset into database "
   ]
  },
  {
   "cell_type": "code",
   "execution_count": null,
   "id": "b7a6900b",
   "metadata": {},
   "outputs": [],
   "source": [
    "#Data_DB.to_sql(\"DATA\",engine,if_exists=\"append\",index=False) "
   ]
  },
  {
   "cell_type": "code",
   "execution_count": null,
   "id": "ee566fb4",
   "metadata": {},
   "outputs": [],
   "source": [
    "Data_df= pd.read_sql(\"SELECT * FROM DATA;\",engine) #to read from database to dataframe\n",
    "Data_df"
   ]
  },
  {
   "cell_type": "markdown",
   "id": "0e9589b5",
   "metadata": {},
   "source": [
    "#### Data cleaning \n",
    "* cleaning data and remove space in columns \n",
    "* drop duplicates \n"
   ]
  },
  {
   "cell_type": "code",
   "execution_count": null,
   "id": "31b5ce29",
   "metadata": {},
   "outputs": [],
   "source": [
    "Data_df.columns = [column.strip() for column in Data_df.columns] # strip space in columns \n",
    "Data_df.columns"
   ]
  },
  {
   "cell_type": "code",
   "execution_count": null,
   "id": "1c42de78",
   "metadata": {},
   "outputs": [],
   "source": [
    "(Data_df.groupby([\"C/A\",\"UNIT\",\"SCP\",\"STATION\",\"DIVISION\",\"DATE\",\"TIME\"]).ENTRIES.count().reset_index()\n",
    " .sort_values(\"ENTRIES\",ascending=False))\n",
    "#to check duplicate rows"
   ]
  },
  {
   "cell_type": "code",
   "execution_count": null,
   "id": "86105b96",
   "metadata": {
    "scrolled": false
   },
   "outputs": [],
   "source": [
    "Data_df.sort_values([\"C/A\", \"UNIT\", \"SCP\", \"STATION\", \"DATE\",\"TIME\"],inplace=True, ascending=False)\n",
    "Data_df.drop_duplicates(subset=[\"C/A\", \"UNIT\", \"SCP\", \"STATION\", \"DATE\",\"TIME\"], inplace=True)\n",
    "Data_df\n",
    "#drop_duplicates"
   ]
  },
  {
   "cell_type": "code",
   "execution_count": null,
   "id": "548a601f",
   "metadata": {},
   "outputs": [],
   "source": [
    "Data_df[\"DATE_TIME\"]= pd.to_datetime(Data_df.DATE+' '+Data_df.TIME) #new column for date and time"
   ]
  },
  {
   "cell_type": "code",
   "execution_count": null,
   "id": "ee044cbc",
   "metadata": {},
   "outputs": [],
   "source": [
    "Data_df[\"WEEKDAY\"]=Data_df[\"DATE_TIME\"].dt.weekday\n",
    "Data_df\n",
    "#add columns weekday "
   ]
  },
  {
   "cell_type": "markdown",
   "id": "e52c0eb6",
   "metadata": {},
   "source": [
    "### sort data \n",
    "* Groupby data by time to know entry for each station per time \n"
   ]
  },
  {
   "cell_type": "code",
   "execution_count": null,
   "id": "17f3c6cf",
   "metadata": {},
   "outputs": [],
   "source": [
    "Data_time = (Data_df.groupby([\"C/A\", \"UNIT\", \"SCP\", \"STATION\", \"DATE\",\"TIME\"],\n",
    "                               as_index=False).ENTRIES.first()) # groupby time "
   ]
  },
  {
   "cell_type": "code",
   "execution_count": null,
   "id": "dce2293b",
   "metadata": {},
   "outputs": [],
   "source": [
    "Data_time[\"Daily_ENTRIES_T\"]=Data_time.groupby([\"C/A\", \"UNIT\", \"SCP\", \"STATION\"])[[\"ENTRIES\"]].diff()\n",
    "#find difference between entries per time "
   ]
  },
  {
   "cell_type": "code",
   "execution_count": null,
   "id": "58edfcf0",
   "metadata": {},
   "outputs": [],
   "source": [
    "Data_time.dropna(subset=[\"Daily_ENTRIES_T\"], axis=0, inplace = True) #drop NaN"
   ]
  },
  {
   "cell_type": "code",
   "execution_count": null,
   "id": "7e0c9ef6",
   "metadata": {},
   "outputs": [],
   "source": [
    "Data_df.TIME=pd.to_datetime(Data_df.TIME) #change to datatime "
   ]
  },
  {
   "cell_type": "code",
   "execution_count": null,
   "id": "1f4245f3",
   "metadata": {
    "scrolled": true
   },
   "outputs": [],
   "source": [
    "Data_time[\"Daily_fixed\"]=(np.where(((Data_time.ENTRIES ==0) & (Data_time.Daily_ENTRIES_T < 0)),0,\n",
    "                           np.where((Data_time.ENTRIES !=0) & (Data_time.Daily_ENTRIES_T < 0)\n",
    "                           ,abs(Data_time.Daily_ENTRIES_T),Data_time.Daily_ENTRIES_T)))\n",
    "Data_time.reset_index()\n",
    "# find values =0 for ENTRIES and Daily_ENTRIES_T < 0 put it 0 and for ENTRIES !=0 and Daily_ENTRIES_T < 0 \n",
    "# replace it with abs values"
   ]
  },
  {
   "cell_type": "markdown",
   "id": "ecb0c0d0",
   "metadata": {},
   "source": [
    "* Groupby data by Date to know entry for each station per day"
   ]
  },
  {
   "cell_type": "code",
   "execution_count": null,
   "id": "4b5bb24c",
   "metadata": {},
   "outputs": [],
   "source": [
    "Data_Day= (Data_df.groupby([\"C/A\", \"UNIT\", \"SCP\", \"STATION\", \"DATE\",\"WEEKDAY\"],\n",
    "                           as_index=False).ENTRIES.first()) #same as above but per day "
   ]
  },
  {
   "cell_type": "code",
   "execution_count": null,
   "id": "335fc061",
   "metadata": {},
   "outputs": [],
   "source": [
    "Data_Day[\"Daily_ENTRIES_D\"]=Data_Day.groupby([\"C/A\", \"UNIT\", \"SCP\", \"STATION\"])[[\"ENTRIES\"]].diff()"
   ]
  },
  {
   "cell_type": "code",
   "execution_count": null,
   "id": "9f572106",
   "metadata": {},
   "outputs": [],
   "source": [
    "Data_Day.dropna(subset=[\"Daily_ENTRIES_D\"], axis=0, inplace = True)"
   ]
  },
  {
   "cell_type": "code",
   "execution_count": null,
   "id": "8b60381a",
   "metadata": {
    "scrolled": false
   },
   "outputs": [],
   "source": [
    "Data_Day[\"Daily_fixed\"]=(np.where(((Data_Day.ENTRIES ==0) & (Data_Day.Daily_ENTRIES_D < 0)),0,\n",
    "                          np.where((Data_Day.ENTRIES !=0) & (Data_Day.Daily_ENTRIES_D < 0)\n",
    "                          ,abs(Data_Day.Daily_ENTRIES_D),Data_Day.Daily_ENTRIES_D)))\n",
    "Data_Day"
   ]
  },
  {
   "cell_type": "markdown",
   "id": "0919980e",
   "metadata": {},
   "source": [
    "* check missing values in data by choose randomly for some station"
   ]
  },
  {
   "cell_type": "code",
   "execution_count": null,
   "id": "2c1f87fd",
   "metadata": {
    "scrolled": true
   },
   "outputs": [],
   "source": [
    "mask = (\n",
    "        (Data_time[\"C/A\"] == \"A050\") &\n",
    "        (Data_time[\"UNIT\"] == \"R088\") & \n",
    "        (Data_time[\"SCP\"]== \"00-05-01\")&\n",
    "        (Data_time[\"STATION\"] == \"CORTLANDT ST\")&\n",
    "        (Data_time[\"DATE\"]==\"06/15/2021\"))\n",
    "missing_v1=Data_time[mask]\n",
    "\n",
    "missing_v1.reset_index()\n",
    "\n",
    "#to draw missing "
   ]
  },
  {
   "cell_type": "code",
   "execution_count": null,
   "id": "224b9ec2",
   "metadata": {},
   "outputs": [],
   "source": [
    "mask = (\n",
    "        (Data_time[\"C/A\"] == \"A050\") &\n",
    "        (Data_time[\"UNIT\"] == \"R088\") & \n",
    "        (Data_time[\"SCP\"]== \"00-05-01\")&\n",
    "        (Data_time[\"STATION\"] == \"CORTLANDT ST\")&\n",
    "        (Data_time[\"DATE\"]==\"06/16/2021\"))\n",
    "missing_v2=Data_time[mask]\n",
    "missing_v2.reset_index()"
   ]
  },
  {
   "cell_type": "markdown",
   "id": "2eaec70f",
   "metadata": {},
   "source": [
    "* Check values not equale 0 and bigeer than 0 "
   ]
  },
  {
   "cell_type": "code",
   "execution_count": null,
   "id": "1e4753d9",
   "metadata": {
    "scrolled": true
   },
   "outputs": [],
   "source": [
    "df=Data_Day[((Data_Day.ENTRIES !=0) & (Data_Day.Daily_ENTRIES_D > 0))]\n",
    "df"
   ]
  },
  {
   "cell_type": "markdown",
   "id": "607d28af",
   "metadata": {},
   "source": [
    "* I assumed that the data with more than 5000k entries is correct because if we put it 10k the difference will be 3 rows"
   ]
  },
  {
   "cell_type": "code",
   "execution_count": null,
   "id": "b2fbe3cb",
   "metadata": {},
   "outputs": [],
   "source": [
    "Data_5=(df[df.Daily_fixed<5000])\n",
    "\n",
    "Data_5[\"DATE_DT\"]= pd.to_datetime(Data_5[\"DATE\"])\n",
    "Data_5.sort_values(\"Daily_fixed\",ascending=False)"
   ]
  },
  {
   "cell_type": "code",
   "execution_count": null,
   "id": "db9cf7e3",
   "metadata": {},
   "outputs": [],
   "source": [
    "Data_5[\"WEEK\"]=Data_5.DATE_DT.dt.week\n",
    "Data_5.reset_index()"
   ]
  },
  {
   "cell_type": "code",
   "execution_count": null,
   "id": "af661389",
   "metadata": {},
   "outputs": [],
   "source": [
    "Data_weekly=Data_5.groupby([\"STATION\",\"WEEK\"]).Daily_fixed.sum().reset_index().sort_values(\"Daily_fixed\",ascending=False)\n",
    "Data_weekly=Data_weekly.head(14).reset_index()\n",
    "Data_weekly.sort_values(\"WEEK\",ascending=True)"
   ]
  },
  {
   "cell_type": "code",
   "execution_count": null,
   "id": "f854915f",
   "metadata": {
    "scrolled": true
   },
   "outputs": [],
   "source": [
    "plt.figure(figsize = [9,6])\n",
    "sns.set_style(\"white\")\n",
    "plt.grid\n",
    "\n",
    "plt.xticks([18,19,20,21,22,23,24,25,26,27,28,29,30,31],[\"1\",\"2\",\"3\",\"4\",\"5\",\"6\",\"7\",\"8\",\"9\",\"10\",\"11\",\"12\",\"13\",\"14\"])\n",
    "plt.xlabel(\"WEEKS\",fontsize = 10, weight = 'bold')\n",
    "plt.ylabel('ENTRY STATION PER WEEK',fontsize = 10, weight = 'bold')\n",
    "plt.title(\"ENTRY FOR STATION (34 ST-PENN STA) PER WEEK\",fontsize = 15, weight = 'bold')\n",
    "plt.bar(Data_weekly['WEEK'],Data_weekly[\"Daily_fixed\"],width = 0.7,color=(\"maroon\"),edgecolor='black');\n",
    "\n",
    "\n"
   ]
  },
  {
   "cell_type": "code",
   "execution_count": null,
   "id": "77209a85",
   "metadata": {},
   "outputs": [],
   "source": [
    "plt.figure(figsize = [14,4])\n",
    "plt.suptitle('BEHAVIOR OF CORTLANDT ST STATION',fontsize = 12,weight = 'bold',c=\"maroon\")\n",
    "plt.subplot(1,2,1)\n",
    "plt.plot(missing_v1[\"TIME\"],(missing_v1[\"ENTRIES\"]),\"ko\",linestyle=\"-\",c=\"maroon\")\n",
    "plt.grid()\n",
    "plt.xticks(rotation=40)\n",
    "plt.xticks([\"01:00:00\",\"05:00:00\",\"09:00:00\",\n",
    "          \"21:00:00\"],\n",
    "           [\"01:00\",\"05:00\",\"09:00\",\"21:00\"])\n",
    "plt.title('15/06/2021',fontsize=10);\n",
    "\n",
    "plt.subplot(1,2,2)\n",
    "plt.plot(missing_v2[\"TIME\"],(missing_v2[\"ENTRIES\"]),\"ko\",linestyle=\"-\",c=\"maroon\")\n",
    "plt.xticks([\"01:00:00\",\"05:00:00\",\"09:00:00\",\n",
    "            \"13:00:00\",\"17:00:00\",\"21:00:00\"],\n",
    "           [\"01:00\",\"05:00\",\"09:00\",\"13:00\",\"17:00\",\"21:00\"])\n",
    "#plt.xticks([\"1900-01-01 01:00:00\",\"1900-01-01 05:00:00\",\"1900-01-01 09:00:00\",\n",
    "#             \"1900-01-01 13:00:00\",\"1900-01-01 17:00:00\",\"1900-01-01 21:00:00\"],\n",
    "#            [\"01:00\",\"05:00\",\"09:00\",\"13:00\",\"17:00\",\"21:00\"])\n",
    "\n",
    "\n",
    "plt.title('16/06/2021',fontsize=10);\n",
    "\n",
    "\n",
    "plt.xticks(rotation=40)\n",
    "\n",
    "plt.grid()\n",
    "\n",
    "sns.set_style(\"white\")\n"
   ]
  },
  {
   "cell_type": "code",
   "execution_count": null,
   "id": "6d9d6c42",
   "metadata": {},
   "outputs": [],
   "source": [
    "top15=Data_5.groupby(\"STATION\").Daily_fixed.sum().reset_index().sort_values(\"Daily_fixed\",ascending=False).head(15)\n",
    "top15"
   ]
  },
  {
   "cell_type": "code",
   "execution_count": null,
   "id": "1a146942",
   "metadata": {},
   "outputs": [],
   "source": [
    "plt.figure(figsize = [14,8])\n",
    "\n",
    "sns.barplot(x='Daily_fixed',y = 'STATION',data=top15,palette=\"rocket\")\n",
    "sns.despine()\n",
    "plt.xlabel(\"TOTAL ENTERY PER 14-WEEKS\",fontsize = 10, weight = 'bold')\n",
    "plt.ylabel('TOP ENTRY STATION',fontsize = 10, weight = 'bold')\n",
    "plt.xticks([0,1000000,2000000,3000000,4000000],[\"0\",\"1M\",\"2M\",\"3M\",\"4M\"])\n",
    "plt.title(\"MOST ENTRY STATIONS\",fontsize = 20, weight = 'bold')\n",
    "sns.despine()\n",
    "sns.set_style(\"white\")"
   ]
  },
  {
   "cell_type": "code",
   "execution_count": null,
   "id": "6de5045b",
   "metadata": {},
   "outputs": [],
   "source": [
    "Data_Day[\"DATE_DT\"] = pd.to_datetime(Data_Day[\"DATE\"])\n",
    "Data_Day[\"WEEK\"]=Data_Day.DATE_DT.dt.week\n",
    "Data_Day"
   ]
  },
  {
   "cell_type": "code",
   "execution_count": null,
   "id": "772f3162",
   "metadata": {},
   "outputs": [],
   "source": [
    "mask = ((Data_Day[\"C/A\"] == \"N067\") &\n",
    "        (Data_Day[\"UNIT\"] == \"R012\") &\n",
    "        \n",
    "        (Data_Day[\"STATION\"] == \"34 ST-PENN STA\")\n",
    "        )\n",
    "\n",
    "ST_34=Data_Day[mask]\n",
    "ST_34.sort_values(\"Daily_fixed\",ascending=False)\n",
    "tt=ST_34.reset_index()\n",
    "# 34 ST-PENN STA\n",
    "tt"
   ]
  },
  {
   "cell_type": "code",
   "execution_count": null,
   "id": "ec8b1f08",
   "metadata": {},
   "outputs": [],
   "source": [
    "mask = ((ST_34[\"C/A\"] == \"N067\") &\n",
    "        (ST_34[\"UNIT\"] == \"R012\") & \n",
    "        (ST_34[\"STATION\"] == \"34 ST-PENN STA\")&\n",
    "         (ST_34[\"WEEK\"] == 29)\n",
    "      )\n",
    "#len(Data_df[mask])\n",
    "ST_34[mask]"
   ]
  },
  {
   "cell_type": "code",
   "execution_count": null,
   "id": "875b1227",
   "metadata": {},
   "outputs": [],
   "source": [
    "ST_two_week=ST_34.groupby([\"DATE_DT\",\"STATION\",])[[\"Daily_fixed\"]].sum()\n",
    "ST_two_week.reset_index(inplace=True)\n",
    "ST_two_week[\"WEEK\"]=ST_two_week.DATE_DT.dt.week\n",
    "ST_two_week\n",
    "ST_two_week.reset_index(inplace=True)\n"
   ]
  },
  {
   "cell_type": "code",
   "execution_count": null,
   "id": "d2227a8e",
   "metadata": {},
   "outputs": [],
   "source": [
    "mask = (\n",
    "        (ST_two_week[\"STATION\"] == \"34 ST-PENN STA\")&\n",
    "         (ST_two_week[\"WEEK\"] >= 29)&\n",
    "    (ST_two_week[\"WEEK\"] <= 30)\n",
    "    \n",
    "      )\n",
    "#len(Data_df[mask])\n",
    "ST_two_week1=ST_two_week[mask]"
   ]
  },
  {
   "cell_type": "code",
   "execution_count": null,
   "id": "1f7f170c",
   "metadata": {},
   "outputs": [],
   "source": [
    "plt.figure(figsize = [16,5])\n",
    "#plt.xticks([0,1,2,3,4,5,6],[\"Monday\",\"Tuesday\",\"Wednesday\",\"Thursday\",\"Friday\",\"Saturday\",\"Sunday\"])\n",
    "plt.plot(ST_two_week.DATE_DT,ST_two_week.Daily_fixed, color=(\"#850707\"),linestyle=\"-\")\n",
    "#plt.yticks([80000,90000,100000,110000,120000])\n",
    "plt.grid()\n",
    "plt.legend([\"TOTAL ENTRY FOR 3 MONTHS \"],shadow = True, loc = 2);\n",
    "plt.xlabel(\"DATE\",fontsize = 15, weight = 'bold')\n",
    "plt.ylabel('TOTAL ENTRY PER DAY',fontsize = 15, weight = 'bold')\n",
    "plt.title(\"ENTRY FOR 3 MONTHS (34 ST-PENN STA) STATION\",fontsize = 20, weight = 'bold')"
   ]
  },
  {
   "cell_type": "code",
   "execution_count": null,
   "id": "4aaf1786",
   "metadata": {},
   "outputs": [],
   "source": [
    "ST_34perweek=ST_34.groupby([\"WEEKDAY\",\"STATION\"])[[\"Daily_fixed\"]].sum()\n",
    "ST_34perweek.reset_index(inplace=True)\n",
    "ST_34perweek"
   ]
  },
  {
   "cell_type": "code",
   "execution_count": null,
   "id": "e1da54ff",
   "metadata": {},
   "outputs": [],
   "source": [
    "plt.figure(figsize = [14,4])\n",
    "\n",
    "\n",
    "plt.plot(ST_two_week1.DATE_DT,ST_two_week1.Daily_fixed,\"ko\", color=(\"#850707\"),linestyle=\"-\")\n",
    "#plt.yticks([80000,90000,100000,110000,120000])\n",
    "plt.grid()\n",
    "plt.legend(['TOTAL ENTRY FOR 3 MONTHS'],shadow = True, loc = 3);\n",
    "plt.xlabel(\"DATE\",fontsize = 15, weight = 'bold')\n",
    "plt.ylabel('TOTAL ENTRY',fontsize = 15, weight = 'bold')\n",
    "plt.title(\"ENTRY FOR STATION (34 ST-PENN STA)\",fontsize = 20, weight = 'bold')\n",
    "plt.xticks(rotation=40)"
   ]
  },
  {
   "cell_type": "code",
   "execution_count": null,
   "id": "ea492041",
   "metadata": {},
   "outputs": [],
   "source": [
    "ST_34[\"WEEKDAY\"]=Data_df[\"DATE_TIME\"].dt.weekday"
   ]
  },
  {
   "cell_type": "code",
   "execution_count": null,
   "id": "820df5d7",
   "metadata": {},
   "outputs": [],
   "source": [
    "mask = (\n",
    "        (Data_df[\"STATION\"] == \"GRD CNTRL-42 ST\")&\n",
    "        (Data_df[\"DATE\"]==\"05/07/2021\"))\n",
    "#len(Data_df[mask])\n",
    "Data_df[mask].tail(5)"
   ]
  },
  {
   "cell_type": "code",
   "execution_count": null,
   "id": "4c1fbea0",
   "metadata": {},
   "outputs": [],
   "source": [
    "mask = ((Data_Day[\"C/A\"] == \"A015\") &\n",
    "        (Data_Day[\"UNIT\"] == \"R081\") & \n",
    "        (Data_Day[\"STATION\"] == \"49 ST\")&\n",
    "        (Data_Day[\"SCP\"] == \"00-00-02\")&\n",
    "       (Data_Day[\"DATE_DT\"].dt.month == 5)&\n",
    "       (Data_Day[\"DATE_DT\"].dt.day >=14)&\n",
    "        (Data_Day[\"DATE_DT\"].dt.day <=20))\n",
    "test=Data_Day[mask]\n",
    "test.reset_index()"
   ]
  },
  {
   "cell_type": "code",
   "execution_count": null,
   "id": "85398715",
   "metadata": {},
   "outputs": [],
   "source": [
    "test.sort_index()"
   ]
  },
  {
   "cell_type": "code",
   "execution_count": null,
   "id": "08cc004a",
   "metadata": {},
   "outputs": [],
   "source": [
    "test.barh(ss.WEEKDAY,ss.Daily_fixed);"
   ]
  }
 ],
 "metadata": {
  "kernelspec": {
   "display_name": "Python 3",
   "language": "python",
   "name": "python3"
  },
  "language_info": {
   "codemirror_mode": {
    "name": "ipython",
    "version": 3
   },
   "file_extension": ".py",
   "mimetype": "text/x-python",
   "name": "python",
   "nbconvert_exporter": "python",
   "pygments_lexer": "ipython3",
   "version": "3.8.8"
  }
 },
 "nbformat": 4,
 "nbformat_minor": 5
}
